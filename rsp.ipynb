{
 "cells": [
  {
   "cell_type": "code",
   "execution_count": 175,
   "metadata": {},
   "outputs": [],
   "source": [
    "import numpy as np\n",
    "import matplotlib.pyplot as plt"
   ]
  },
  {
   "cell_type": "code",
   "execution_count": 176,
   "metadata": {},
   "outputs": [],
   "source": [
    "def airdensity(altitude,g):\n",
    "    T0 = 288.15  # sea level temperature, K\n",
    "    rho0 = 1.225  # sea level density, kg/m^3\n",
    "    L = 0.0065   # temperature lapse rate, K/m\n",
    "    R = 287.1    # specific gas constant, J/(kg*K)\n",
    "\n",
    "    # calculate temperature at altitude\n",
    "    T = T0 - L * altitude\n",
    "\n",
    "    # calculate pressure at altitude\n",
    "    p = 101325 * (T/T0)**(g/(L*R))\n",
    "\n",
    "    # calculate air density at altitude\n",
    "    rho = p/(R*T)\n",
    "\n",
    "    return rho\n"
   ]
  },
  {
   "cell_type": "code",
   "execution_count": 177,
   "metadata": {},
   "outputs": [],
   "source": [
    "wetmass=1\n",
    "propellant=0.094\n",
    "burntime=3.6\n",
    "totalimpulse=50.4\n",
    "A=0.1\n",
    "Cd=0.75\n",
    "\n",
    "\n",
    "drymass=wetmass-propellant\n",
    "averagethrust=totalimpulse/burntime\n",
    "massflowrate=propellant/burntime\n",
    "\n",
    "time=np.linspace(0,10,10000, False)\n",
    "\n",
    "\n",
    "#defining variables\n",
    "thrust=np.zeros(len(time))\n",
    "mass=np.zeros(len(time))\n",
    "acceleration=np.zeros(len(time))\n",
    "velocity=np.zeros(len(time))\n",
    "altitude=np.zeros(len(time))\n",
    "gravity=np.zeros(len(time))\n",
    "rho=np.zeros(len(time))\n",
    "drag=np.zeros(len(time))\n",
    "\n",
    "#setting initial values\n",
    "thrust[0]=averagethrust\n",
    "mass[0]=wetmass\n",
    "gravity[0]=((6.6743 * 10**(-11) * 5.9721 * 10**24) / (6371000)**2)\n",
    "acceleration[0]=thrust[0]/mass[0] - gravity[0]\n",
    "rho[0]=airdensity(altitude[0],gravity[0])"
   ]
  },
  {
   "cell_type": "code",
   "execution_count": 178,
   "metadata": {},
   "outputs": [
    {
     "name": "stderr",
     "output_type": "stream",
     "text": [
      "<ipython-input-178-b05790e77f0d>:13: RuntimeWarning: overflow encountered in double_scalars\n",
      "  gravity[i]=((6.6743 * 10**(-11) * 5.9721 * 10**24) / (6371000 + altitude[i])**2)\n",
      "<ipython-input-178-b05790e77f0d>:19: RuntimeWarning: overflow encountered in double_scalars\n",
      "  acceleration[i]=thrust[i]/mass[i]-gravity[i]-(drag[i]*velocity[i-1]**2)/mass[i]\n"
     ]
    }
   ],
   "source": [
    "#this loop calculating acceleration, velocity, altitude and gravity with iterating\n",
    "for i in range(1, len(time)):\n",
    "    #declaring dt and dh\n",
    "    dt=time[i]-time[i-1]\n",
    "    dh=velocity[i-1]*dt+0.5*acceleration[i-1]* dt**2\n",
    "   \n",
    "    rho[i]=airdensity(altitude[i],gravity[i])\n",
    "    drag[i]=0.5*rho[i]*Cd*A\n",
    "    \n",
    "    \n",
    "    #updating altitude and gravity\n",
    "    altitude[i]=altitude[i-1]+dh\n",
    "    gravity[i]=((6.6743 * 10**(-11) * 5.9721 * 10**24) / (6371000 + altitude[i])**2)\n",
    "    \n",
    "    #calculating thrust, mass and acceleration\n",
    "    thrust[i]=(averagethrust if time[i]<burntime else 0)\n",
    "    mass[i]=(wetmass-time[i]*massflowrate if time[i]<burntime else drymass)\n",
    "    if(velocity[i]>=0):\n",
    "        acceleration[i]=thrust[i]/mass[i]-gravity[i]-(drag[i]*velocity[i-1]**2)/mass[i]\n",
    "    else:\n",
    "        acceleration[i]=thrust[i]/mass[i]-gravity[i]+(drag[i]*velocity[i-1]**2)/mass[i]\n",
    "\n",
    "    \n",
    "    #calculating velocity with trapezoid rule\n",
    "    velocity[i]=velocity[i-1]+0.5*(acceleration[i-1]+acceleration[i])*dt\n",
    "    \n",
    "    #setting setting negative values of altitude to 0\n",
    "altitude = np.maximum(altitude, 0)\n",
    "    #declaring variable ground which is where altitude is equal 0\n",
    "ground=np.where(altitude==0)\n",
    "    \n",
    "    #setting velocity and acceleration 0, where rocket is on the ground.\n",
    "velocity[ground]=0\n",
    "acceleration[ground]=0"
   ]
  },
  {
   "cell_type": "code",
   "execution_count": 179,
   "metadata": {},
   "outputs": [
    {
     "name": "stdout",
     "output_type": "stream",
     "text": [
      "[0.         0.00418004 0.00836046 ... 0.         0.         0.        ]\n",
      "[0.         4.18022771 4.18059249 ... 0.         0.         0.        ]\n"
     ]
    },
    {
     "data": {
      "image/png": "[encoded data removed]",
      "text/plain": [
       "<Figure size 432x288 with 1 Axes>"
      ]
     },
     "metadata": {
      "needs_background": "light"
     },
     "output_type": "display_data"
    }
   ],
   "source": [
    "plt.plot(time,altitude)\n",
    "plt.plot(time,velocity)\n",
    "plt.plot(time,acceleration)\n",
    "\n",
    "print(velocity)\n",
    "\n",
    "print(acceleration)"
   ]
  },
  {
   "cell_type": "code",
   "execution_count": null,
   "metadata": {},
   "outputs": [],
   "source": []
  },
  {
   "cell_type": "code",
   "execution_count": null,
   "metadata": {},
   "outputs": [],
   "source": []
  }
 ],
 "metadata": {
  "kernelspec": {
   "display_name": "Python 3",
   "language": "python",
   "name": "python3"
  },
  "language_info": {
   "codemirror_mode": {
    "name": "ipython",
    "version": 3
   },
   "file_extension": ".py",
   "mimetype": "text/x-python",
   "name": "python",
   "nbconvert_exporter": "python",
   "pygments_lexer": "ipython3",
   "version": "3.8.5"
  }
 },
 "nbformat": 4,
 "nbformat_minor": 4
}
